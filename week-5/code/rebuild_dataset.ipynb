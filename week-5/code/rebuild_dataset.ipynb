{
 "cells": [
  {
   "cell_type": "code",
   "execution_count": 3,
   "id": "cce1736c-aebb-4742-bdc0-e990ab4f39e9",
   "metadata": {},
   "outputs": [
    {
     "name": "stdout",
     "output_type": "stream",
     "text": [
      "✅ Backed up C:\\Users\\Dell\\Jail-Breaking-Attacks-on-Large-Language-Models-Techniques-and-Effectiveness\\week-5\\data -> C:\\Users\\Dell\\Jail-Breaking-Attacks-on-Large-Language-Models-Techniques-and-Effectiveness\\week-5\\backups\\backup_20251102_003216\\data\n",
      "✅ Backed up C:\\Users\\Dell\\Jail-Breaking-Attacks-on-Large-Language-Models-Techniques-and-Effectiveness\\week-5\\models -> C:\\Users\\Dell\\Jail-Breaking-Attacks-on-Large-Language-Models-Techniques-and-Effectiveness\\week-5\\backups\\backup_20251102_003216\\models\n"
     ]
    }
   ],
   "source": [
    "import shutil, datetime\n",
    "from pathlib import Path\n",
    "\n",
    "ROOT = Path.cwd().parent if Path.cwd().name == \"code\" else Path.cwd()\n",
    "timestamp = datetime.datetime.now().strftime(\"%Y%m%d_%H%M%S\")\n",
    "backup_dir = ROOT / f\"backups/backup_{timestamp}\"\n",
    "\n",
    "for folder in [\"data\", \"models\"]:\n",
    "    src = ROOT / folder\n",
    "    dst = backup_dir / folder\n",
    "    dst.parent.mkdir(parents=True, exist_ok=True)\n",
    "    if src.exists():\n",
    "        shutil.copytree(src, dst)\n",
    "        print(f\"✅ Backed up {src} -> {dst}\")\n"
   ]
  },
  {
   "cell_type": "code",
   "execution_count": 1,
   "id": "f2c207a5-c506-4e11-8b58-e0252ae3928a",
   "metadata": {},
   "outputs": [
    {
     "name": "stdout",
     "output_type": "stream",
     "text": [
      "Found 50 flagged (unsafe) and 5 seed safe examples.\n",
      "Warning: few safe examples. Add more to seed_safe.txt or extra_safe/*.txt for balanced dataset.\n",
      "Wrote C:\\Users\\Dell\\Jail-Breaking-Attacks-on-Large-Language-Models-Techniques-and-Effectiveness\\week-5\\data\\dataset.csv with 32 rows\n",
      "Wrote train/valid/test splits: 22 4 6\n"
     ]
    }
   ],
   "source": [
    "!python ../scripts/prepare_ml_dataset.py"
   ]
  },
  {
   "cell_type": "code",
   "execution_count": 2,
   "id": "17c13003-91e4-4195-85cc-4ec7b83e59d3",
   "metadata": {},
   "outputs": [
    {
     "name": "stdout",
     "output_type": "stream",
     "text": [
      "Validation classification report:\n",
      "              precision    recall  f1-score   support\n",
      "\n",
      "        safe       1.00      1.00      1.00         1\n",
      "      unsafe       1.00      1.00      1.00         3\n",
      "\n",
      "    accuracy                           1.00         4\n",
      "   macro avg       1.00      1.00      1.00         4\n",
      "weighted avg       1.00      1.00      1.00         4\n",
      "\n",
      "Confusion matrix:\n",
      "[[1 0]\n",
      " [0 3]]\n",
      "Saved models to C:\\Users\\Dell\\Jail-Breaking-Attacks-on-Large-Language-Models-Techniques-and-Effectiveness\\week-5\\models\n"
     ]
    }
   ],
   "source": [
    "!python train_detector.py\n"
   ]
  },
  {
   "cell_type": "code",
   "execution_count": null,
   "id": "8d8b62e6-b373-4626-be3c-a46b61d3d761",
   "metadata": {},
   "outputs": [],
   "source": []
  }
 ],
 "metadata": {
  "kernelspec": {
   "display_name": "Python 3 (ipykernel)",
   "language": "python",
   "name": "python3"
  },
  "language_info": {
   "codemirror_mode": {
    "name": "ipython",
    "version": 3
   },
   "file_extension": ".py",
   "mimetype": "text/x-python",
   "name": "python",
   "nbconvert_exporter": "python",
   "pygments_lexer": "ipython3",
   "version": "3.12.1"
  }
 },
 "nbformat": 4,
 "nbformat_minor": 5
}
